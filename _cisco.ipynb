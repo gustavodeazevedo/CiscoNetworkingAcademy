{
 "cells": [
  {
   "cell_type": "markdown",
   "metadata": {},
   "source": [
    "<h1>Cisco Networking Academy - Codes in Python - Fundamentos de Python</h1>"
   ]
  },
  {
   "cell_type": "markdown",
   "metadata": {},
   "source": [
    "<h3>FUNÇÃO PRINT</h3>"
   ]
  },
  {
   "cell_type": "code",
   "execution_count": null,
   "metadata": {},
   "outputs": [],
   "source": [
    "print(\"Ola, Mundo!\")\n",
    "\n",
    "#---------------------------------------------------------------------------------\n",
    "\n",
    "#funcao print vazia gera uma linha em branco no console\n",
    "print() \n",
    "\n",
    "#---------------------------------------------------------------------------------\n",
    "\n",
    "#função print com argumrntos\n",
    "print(\"Olá\", \"Mundo\", \"!\") \n",
    "\n",
    "#---------------------------------------------------------------------------------\n",
    "\n",
    "#\\n = caractere de nova linha\n",
    "print(\"Olá,\\nMundo!\")\n",
    "\n",
    "#---------------------------------------------------------------------------------\n",
    "\n",
    "#incluindo palavra-chave, \"end\" no final, neste caso é a nossa palavra chave\n",
    "print(\"Meu nome é Gustavo,\", end=\"\")\n",
    "\n",
    "#---------------------------------------------------------------------------------\n",
    "\n",
    "print(\"Meu\", \"nome\", \"é\", sep=\"_\", end=\"*\")\n",
    "print(\"Monty\", \"Python.\", sep=\"*\", end=\"*\\n\")\n",
    "\n",
    "#---------------------------------------------------------------------------------\n",
    "\n",
    "print(\"Programação\",\"Essenciais\",\"em\", sep=(\"***\"), end=(\"...\"))\n",
    "\n",
    "#---------------------------------------------------------------------------------\n",
    "\n",
    "print('a', 'b', 'c', 'd', 'e', 'f', 'g' \" \", sep=(\"-\"), end=(\"Argumentos de palavras-chave => sep e end\\n\"))\n",
    "\n",
    "#---------------------------------------------------------------------------------\n",
    "\n",
    "#gera espaço uma linha em branco no console\n",
    "print(\"\")\n",
    "\n",
    "#---------------------------------------------------------------------------------\n",
    "\n",
    "print('Meu\\nnome\\né\\nBond.', end=' ')\n",
    "print('James Bond.')\n",
    "\n",
    "#---------------------------------------------------------------------------------\n",
    "\n",
    "#Uma linha com print => gerando três linhas\n",
    "print('\"Eu sou\"\\n', '\"\"aprendizado\"\"\\n', '\"\"\"Python\"\"\"')"
   ]
  },
  {
   "cell_type": "markdown",
   "metadata": {},
   "source": [
    "<h3>VARIÁVEIS</h3>"
   ]
  },
  {
   "cell_type": "code",
   "execution_count": null,
   "metadata": {},
   "outputs": [],
   "source": [
    "#E=notação científica\n",
    "var = 10E4\n",
    "print(var)\n",
    "\n",
    "#---------------------------------------------------------------------------------\n",
    "\n",
    "var2 = 6.62607E-34\n",
    "print(var2)\n",
    "\n",
    "#---------------------------------------------------------------------------------\n",
    "\n",
    "var = 1\n",
    "account_balance = 1000.0\n",
    "client_name = 'John Doe'\n",
    "\n",
    "print(var, account_balance, client_name)\n",
    "print(var)\n",
    "\n",
    "var = \"3.8.5\"\n",
    "print(\"Versão Python: \" + var)\n",
    "\n",
    "var = 1\n",
    "var = 1.01\n",
    "var = 1.01\n",
    "\n",
    "print(var + 0.01)"
   ]
  },
  {
   "cell_type": "markdown",
   "metadata": {},
   "source": [
    "<h3>VALORES BOOLEAN</h3>"
   ]
  },
  {
   "cell_type": "code",
   "execution_count": null,
   "metadata": {},
   "outputs": [],
   "source": [
    "#True=1, False=0\n",
    "print(True > False) \n",
    "print(True < False)"
   ]
  },
  {
   "cell_type": "markdown",
   "metadata": {},
   "source": [
    "<h3>OPERADORES</h3>"
   ]
  },
  {
   "cell_type": "code",
   "execution_count": null,
   "metadata": {},
   "outputs": [],
   "source": [
    "print(2+2)\n",
    "\n",
    "#com uma /\n",
    "print(6 / 3)\n",
    "print(6 / 3.)\n",
    "print(6. / 3)\n",
    "print(6. / 3.)\n",
    "\n",
    "#---------------------------------------------------------------------------------\n",
    "\n",
    "#com duas //, divisão de número inteiro (divisão arredondada)\n",
    "print(6 // 3)\n",
    "print(6 // 3.)\n",
    "print(6. // 3)\n",
    "print(6. // 3.)\n",
    "\n",
    "#---------------------------------------------------------------------------------\n",
    "\n",
    "#retorna o resto da divisão / % = módulo\n",
    "print(14 % 4)\n",
    "\n",
    "#---------------------------------------------------------------------------------\n",
    "\n",
    "print(-4 - 4) #binário\n",
    "print(4. - 8) #binário\n",
    "print(-1.1) #unário\n",
    "print(+2)#unário\n",
    "\n",
    "#---------------------------------------------------------------------------------\n",
    "\n",
    "#módulo=resto da /\n",
    "print(9 % 6 % 2)\n",
    "\n",
    "#---------------------------------------------------------------------------------\n",
    "\n",
    "print(2 ** 2 ** 3)\n",
    "\n",
    "#---------------------------------------------------------------------------------\n",
    "\n",
    "print(-3 ** 2)\n",
    "print(-2 ** 3)\n",
    "print(-(3 ** 2))\n",
    "\n",
    "#---------------------------------------------------------------------------------\n",
    "\n",
    "a = 3.0\n",
    "b = 4.0\n",
    "c = (a ** 2 + b ** 2) ** 0.5\n",
    "print(\"c =\", c)\n",
    "\n",
    "#---------------------------------------------------------------------------------\n",
    "\n",
    "john = 3\n",
    "mary = 5\n",
    "adam = 6\n",
    "print(john, mary, adam, sep=',')\n",
    "total_apples = john + mary + adam\n",
    "print(total_apples)\n",
    "\n",
    "#---------------------------------------------------------------------------------\n",
    "\n",
    "a = 1\n",
    "a += 1 # += é um operador de atalho\n",
    "print(a)\n",
    "\n",
    "#---------------------------------------------------------------------------------\n",
    "\n",
    "b = 1\n",
    "b = b + 1\n",
    "print(b)\n",
    "\n",
    "#---------------------------------------------------------------------------------\n",
    "\n",
    "kilometers = 12.25\n",
    "miles = 7.38\n",
    "\n",
    "miles_to_kilometers = 11.88\n",
    "kilometers_to_miles = 7.61\n",
    "\n",
    "print(miles, \"milhas é\", round(miles_to_kilometers, 2), \"quilômetros\")\n",
    "print(kilometers, \"quilômetros é\", round(kilometers_to_miles, 2), \"milhas\")\n",
    "\n",
    "#---------------------------------------------------------------------------------\n",
    "\n",
    "x = 0\n",
    "x = float(x)"
   ]
  },
  {
   "cell_type": "markdown",
   "metadata": {},
   "source": [
    "<h3>PRÁTICA COM OPERADORES</h3>"
   ]
  },
  {
   "cell_type": "code",
   "execution_count": null,
   "metadata": {},
   "outputs": [],
   "source": [
    "#3x3 - 2x2 + 3x - 1\n",
    "x = 0\n",
    "x = float(x)\n",
    "\n",
    "y = 3 * x**3 - 2 * x**2 + 3 * x - 1\n",
    "\n",
    "print(\"y =\", y)\n",
    "\n",
    "\n",
    "#3x3 - 2x2 + 3x - 1\n",
    "\n",
    "x = 1 \n",
    "x = float(x)\n",
    "\n",
    "y = 3 * x**3 - 2 * x**2 + 3 * x - 1\n",
    "\n",
    "print(\"y = \", y)\n",
    "\n",
    "#3x3 - 2x2 + 3x - 1\n",
    "\n",
    "x = -1\n",
    "x = float(x)\n",
    "\n",
    "y = 3 * x**3 - 2 * x**2 + 3 * x - 1\n",
    "\n",
    "print(\"y = \", y)\n"
   ]
  },
  {
   "cell_type": "markdown",
   "metadata": {},
   "source": [
    "<h3>COMENTÁRIOS EM PYTHON</h3>"
   ]
  },
  {
   "cell_type": "code",
   "execution_count": null,
   "metadata": {},
   "outputs": [],
   "source": [
    "# Esse programa calcula a hipotenusa c.\n",
    "# a e b são os tamanhos dos lados.\n",
    "a = 3.0\n",
    "b = 4.0\n",
    "c = (a ** 2 + b ** 2) ** 0.5  # Nós usamos ** ao invés de raiz quadrada.\n",
    "print(\"c =\", c)\n",
    " \n",
    "print('------------------------------')\n",
    "\n",
    "# Esse é um programa de teste.\n",
    "x = 1\n",
    "y = 2\n",
    "# y = y + x\n",
    "print(x + y)\n",
    " \n",
    "print('------------------------------')\n",
    "\n",
    "#Este algoritmo calcula o número de segundos em um dado número de horas\n",
    "\n",
    "#número de horas\n",
    "hors = 2 \n",
    "#segundos/1h=3600s\n",
    "seconds = 3600\n",
    "\n",
    "#imprimindo o número de horas\n",
    "print(\"Horas: \", a)\n",
    "# imprimindo o número de segundos em uma dada hora\n",
    "print(\"Seconds in Hours: \", a * seconds) \n",
    "\n",
    "print(\"Adeus\")\n",
    "#esse é o final do programa que computa o número de segundos em 2 horas"
   ]
  },
  {
   "cell_type": "markdown",
   "metadata": {},
   "source": [
    "<h3>FUNÇÃO INPUT</h3>"
   ]
  },
  {
   "cell_type": "code",
   "execution_count": null,
   "metadata": {},
   "outputs": [],
   "source": [
    "print(\"Conta-me qualquer coisa...\")\n",
    "anything = input()\n",
    "print(\"Hum...\", anything, \"... Realmente?\")"
   ]
  },
  {
   "cell_type": "code",
   "execution_count": null,
   "metadata": {},
   "outputs": [],
   "source": [
    "anything = input(\"Conta-me qualquer coisa...\")\n",
    "print(\"Hum...\", anything, \"...Realmente?\")"
   ]
  },
  {
   "cell_type": "code",
   "execution_count": null,
   "metadata": {},
   "outputs": [],
   "source": [
    "var = input(\"Digite seu nome:\")\n",
    "print(\"Seu nome é:\", var)"
   ]
  },
  {
   "cell_type": "code",
   "execution_count": null,
   "metadata": {},
   "outputs": [],
   "source": [
    "#O resultado de uma função input é uma string\n",
    "#Não é um inteiro ou um float.\n",
    "#Aqui vamos ter um erro de execução:\n",
    "\n",
    "anything = input(\"Digite um número: \")\n",
    "something = anything ** 2.0\n",
    "print(anything, \"elevado a 2 é\", something)"
   ]
  },
  {
   "cell_type": "code",
   "execution_count": null,
   "metadata": {},
   "outputs": [],
   "source": [
    "anything = float(input(\"Digite um número: \"))\n",
    "something = anything ** 2.0\n",
    "print(anything, \"elevado a 2 é\", something)"
   ]
  },
  {
   "cell_type": "code",
   "execution_count": null,
   "metadata": {},
   "outputs": [],
   "source": [
    "#se definirmos como int o valor, o resultado é um inteiro e o valor a ser inserido pelo usuário deve ser do tipo int, ao contrário de float\n",
    "calculo = int(input(\"Digite um número para calcular: \"))\n",
    "resultado = calculo **2\n",
    "\n",
    "print(f\"O quadrado de {calculo} é {resultado}\")"
   ]
  },
  {
   "cell_type": "code",
   "execution_count": null,
   "metadata": {},
   "outputs": [],
   "source": [
    "leg_a = float(input(\"Insira o comprimento da primeira perna: \"))\n",
    "leg_b = float(input(\"Insira o comprimento da segunda perna: \"))\n",
    "hypo = (leg_a**2 + leg_b**2) ** .5\n",
    "print(\"O comprimento da hipotenusa é\", hypo)"
   ]
  },
  {
   "cell_type": "code",
   "execution_count": null,
   "metadata": {},
   "outputs": [],
   "source": [
    "leg_a = float(input(\"Insira o comprimento da primeira perna: \"))\n",
    "leg_b = float(input(\"Insira o comprimento da segunda perna: \"))\n",
    "print(\"O comprimento da hipotenusa é\", (leg_a**2 + leg_b**2) ** .5)"
   ]
  },
  {
   "cell_type": "markdown",
   "metadata": {},
   "source": [
    "<h4>Operadores de String</h4>"
   ]
  },
  {
   "cell_type": "code",
   "execution_count": null,
   "metadata": {},
   "outputs": [],
   "source": [
    "fnam = input(\"Posso ter seu primeiro nome, por favor? \")\n",
    "lnam = input(\"Posso ter seu sobrenome, por favor? \")\n",
    "print(\"Obrigado!.\")\n",
    "print(\"\\nSeu nome é \" + fnam + \" \" + lnam + \".\")"
   ]
  },
  {
   "cell_type": "code",
   "execution_count": null,
   "metadata": {},
   "outputs": [],
   "source": [
    "print(\"G\", + 2)"
   ]
  },
  {
   "cell_type": "code",
   "execution_count": null,
   "metadata": {},
   "outputs": [],
   "source": [
    "print(\"G\" * 2)"
   ]
  },
  {
   "cell_type": "code",
   "execution_count": null,
   "metadata": {},
   "outputs": [],
   "source": [
    "#retângulo\n",
    "print(\"+\" + 10 * \"-\" + \"+\")\n",
    "print((\"|\" + \" \" * 10 + \"|\\n\") * 5, end=\"\")\n",
    "print(\"+\" + 10 * \"-\" + \"+\")\n"
   ]
  },
  {
   "cell_type": "markdown",
   "metadata": {},
   "source": [
    "<h4>Conversões de tipo mais uma vez concluídas</h4>"
   ]
  },
  {
   "cell_type": "code",
   "execution_count": null,
   "metadata": {},
   "outputs": [],
   "source": [
    "#a função str converte um valor do tipo \"number\" em \"string\"\n",
    "number = 10\n",
    "str(number)"
   ]
  },
  {
   "cell_type": "code",
   "execution_count": null,
   "metadata": {},
   "outputs": [],
   "source": [
    "leg_a = float(input(\"Insira o comprimento da primeira perna: \"))\n",
    "leg_b = float(input(\"Insira o comprimento da segunda perna: \"))\n",
    "print(\"O comprimento da hipotenusa é \" + str((leg_a**2 + leg_b**2) ** .5))"
   ]
  },
  {
   "cell_type": "markdown",
   "metadata": {},
   "source": [
    "<h4>Tarefas do Módulo 2</h4>"
   ]
  },
  {
   "cell_type": "markdown",
   "metadata": {},
   "source": [
    "<h5>Simples entradas e saídas</h5>"
   ]
  },
  {
   "cell_type": "code",
   "execution_count": null,
   "metadata": {},
   "outputs": [],
   "source": [
    "# entre com um valor float para a variável a aqui\n",
    "a = 2.5\n",
    "# entre com um valor float para a variável b aqui\n",
    "b = 3.5\n",
    "# imprima o resultado da adição aqui\n",
    "print(\"Adição:\",a + b)\n",
    "# imprima o resultado da subtração aqui\n",
    "print(\"Subtração:\", a - b)\n",
    "# imprima o resultado da multiplicação aqui\n",
    "print(\"Multiplicação:\", a * b)\n",
    "# imprima o resultado da divisão aqui\n",
    "print(\"Divisão:\", a / b)\n",
    "\n",
    "print(\"\\nIsso é tudo, pessoal!\")"
   ]
  },
  {
   "cell_type": "markdown",
   "metadata": {},
   "source": [
    "<h5>Operadores e Expressões</h5>\n",
    "<img src=\"https://www.netacad.com/content/pe1/1.0/courses/content/m2/pt-BR/assets/ae5d9dec1dda05fda93912c1d7191ee42d10c8e5.png\">"
   ]
  },
  {
   "cell_type": "code",
   "execution_count": null,
   "metadata": {},
   "outputs": [],
   "source": [
    "x = float(input(\"Digite o valor para x: \"))\n",
    "y = 1./(x + 1./(x + 1./(x + 1./x)))\n",
    "print(\"y =\", y)"
   ]
  },
  {
   "cell_type": "markdown",
   "metadata": {},
   "source": [
    "<h5>Operadores e Expressões – 2\n",
    "</h5>"
   ]
  },
  {
   "cell_type": "code",
   "execution_count": null,
   "metadata": {},
   "outputs": [],
   "source": [
    "hour = int(input(\"Hora de início (horas): \"))\n",
    "mins = int(input(\"Hora de início (minutos): \"))\n",
    "dura = int(input(\"Duração do evento (minutos): \"))\n",
    "mins = mins + dura # encontre um total de todos os minutos\n",
    "hour = hour + mins // 60 # encontre um número de horas escondido em minutos e atualize a hora\n",
    "mins = mins % 60 # minutos corretos para cair no intervalo (0..59)\n",
    "hour = hour % 24 # horas corretas para cair no intervalo (0..23)\n",
    "print(hour, \":\", mins, sep='')"
   ]
  },
  {
   "cell_type": "markdown",
   "metadata": {},
   "source": [
    "--------------------------------------------------------------------------------------------------"
   ]
  },
  {
   "cell_type": "code",
   "execution_count": null,
   "metadata": {},
   "outputs": [],
   "source": [
    "name = input(\"Digite seu nome: \")\n",
    "print(\"Olá, \" + name + \". Prazer em conhecê-lo!\")\n",
    " \n",
    "print(\"\\nPressione Enter para finalizar o programa.\")\n",
    "input()\n",
    "print(\"O FIM.\")"
   ]
  },
  {
   "cell_type": "code",
   "execution_count": null,
   "metadata": {},
   "outputs": [],
   "source": [
    "x = input(\"Digite um número:\")\n",
    "print(type(x))"
   ]
  },
  {
   "cell_type": "code",
   "execution_count": 20,
   "metadata": {},
   "outputs": [
    {
     "name": "stdout",
     "output_type": "stream",
     "text": [
      "1.0\n"
     ]
    }
   ],
   "source": [
    "print(1/1)"
   ]
  },
  {
   "cell_type": "markdown",
   "metadata": {},
   "source": [
    "<h3>Códigos do Teste do Módulo</h3>"
   ]
  },
  {
   "cell_type": "code",
   "execution_count": 38,
   "metadata": {},
   "outputs": [
    {
     "name": "stdout",
     "output_type": "stream",
     "text": [
      "2 1\n"
     ]
    }
   ],
   "source": [
    "x = 1\n",
    "y = 2\n",
    "z = x\n",
    "x = y\n",
    "y = z\n",
    "print(x, y)"
   ]
  },
  {
   "cell_type": "code",
   "execution_count": 39,
   "metadata": {},
   "outputs": [
    {
     "name": "stdout",
     "output_type": "stream",
     "text": [
      "24\n"
     ]
    }
   ],
   "source": [
    "x = input()\n",
    "y = input()\n",
    "print(x + y)"
   ]
  },
  {
   "cell_type": "code",
   "execution_count": 40,
   "metadata": {},
   "outputs": [
    {
     "ename": "ZeroDivisionError",
     "evalue": "integer division or modulo by zero",
     "output_type": "error",
     "traceback": [
      "\u001b[1;31m---------------------------------------------------------------------------\u001b[0m",
      "\u001b[1;31mZeroDivisionError\u001b[0m                         Traceback (most recent call last)",
      "Cell \u001b[1;32mIn[40], line 5\u001b[0m\n\u001b[0;32m      2\u001b[0m y \u001b[38;5;241m=\u001b[39m \u001b[38;5;28mint\u001b[39m(\u001b[38;5;28minput\u001b[39m())\n\u001b[0;32m      4\u001b[0m x \u001b[38;5;241m=\u001b[39m x \u001b[38;5;241m/\u001b[39m\u001b[38;5;241m/\u001b[39m y\n\u001b[1;32m----> 5\u001b[0m y \u001b[38;5;241m=\u001b[39m \u001b[43my\u001b[49m\u001b[43m \u001b[49m\u001b[38;5;241;43m/\u001b[39;49m\u001b[38;5;241;43m/\u001b[39;49m\u001b[43m \u001b[49m\u001b[43mx\u001b[49m\n\u001b[0;32m      7\u001b[0m \u001b[38;5;28mprint\u001b[39m(y)\n",
      "\u001b[1;31mZeroDivisionError\u001b[0m: integer division or modulo by zero"
     ]
    }
   ],
   "source": [
    "x = int(input())\n",
    "y = int(input())\n",
    " \n",
    "x = x // y\n",
    "y = y // x\n",
    " \n",
    "print(y)"
   ]
  },
  {
   "cell_type": "code",
   "execution_count": 41,
   "metadata": {},
   "outputs": [
    {
     "name": "stdout",
     "output_type": "stream",
     "text": [
      "8.0\n"
     ]
    }
   ],
   "source": [
    "x = int(input())\n",
    "y = int(input())\n",
    " \n",
    "x = x / y\n",
    "y = y / x\n",
    " \n",
    "print(y)"
   ]
  },
  {
   "cell_type": "code",
   "execution_count": 42,
   "metadata": {},
   "outputs": [
    {
     "name": "stdout",
     "output_type": "stream",
     "text": [
      "1\n"
     ]
    }
   ],
   "source": [
    "x = int(input())\n",
    "y = int(input())\n",
    " \n",
    "x = x % y\n",
    "x = x % y\n",
    "y = y % x\n",
    " \n",
    "print(y)"
   ]
  },
  {
   "cell_type": "code",
   "execution_count": 43,
   "metadata": {},
   "outputs": [
    {
     "name": "stdout",
     "output_type": "stream",
     "text": [
      "333333\n"
     ]
    }
   ],
   "source": [
    "x = input()\n",
    "y = int(input())\n",
    " \n",
    "print(x * y)"
   ]
  },
  {
   "cell_type": "code",
   "execution_count": 44,
   "metadata": {},
   "outputs": [
    {
     "name": "stdout",
     "output_type": "stream",
     "text": [
      "1*1*1\n"
     ]
    }
   ],
   "source": [
    "z = y = x = 1\n",
    "print(x, y, z, sep='*')"
   ]
  },
  {
   "cell_type": "code",
   "execution_count": null,
   "metadata": {},
   "outputs": [],
   "source": [
    "#este código é para estar errado\n",
    "y = 2 + 3 * 5.\n",
    "print(Y)"
   ]
  },
  {
   "cell_type": "code",
   "execution_count": 45,
   "metadata": {},
   "outputs": [
    {
     "name": "stdout",
     "output_type": "stream",
     "text": [
      "17.5\n"
     ]
    }
   ],
   "source": [
    "x = 1 / 2 + 3 // 3 + 4 ** 2\n",
    "print(x)"
   ]
  },
  {
   "cell_type": "code",
   "execution_count": 46,
   "metadata": {},
   "outputs": [
    {
     "name": "stdout",
     "output_type": "stream",
     "text": [
      "6\n"
     ]
    }
   ],
   "source": [
    "x = int(input())\n",
    "y = int(input())\n",
    " \n",
    "print(x + y)"
   ]
  },
  {
   "cell_type": "markdown",
   "metadata": {},
   "source": [
    "<h4>Comparação: operador de igualdade</h4>"
   ]
  },
  {
   "cell_type": "code",
   "execution_count": null,
   "metadata": {},
   "outputs": [],
   "source": [
    "var = 0 # Atribuindo 0 a var\n",
    "print(var == 0)\n",
    "\n",
    "var = 1 # Atribuindo 1 a var\n",
    "print(var == 0)"
   ]
  },
  {
   "cell_type": "markdown",
   "metadata": {},
   "source": [
    "<h4>Desigualdade: o operador de desigualdade (!=)</h4>"
   ]
  },
  {
   "cell_type": "code",
   "execution_count": null,
   "metadata": {},
   "outputs": [],
   "source": [
    "var = 0  # Atribuindo 0 a var\n",
    "print(var != 0)\n",
    " \n",
    "var = 1  # Atribuindo 1 a var\n",
    "print(var != 0)"
   ]
  },
  {
   "cell_type": "markdown",
   "metadata": {},
   "source": [
    "<h4>Operadores de comparação: maior que</h4>"
   ]
  },
  {
   "cell_type": "code",
   "execution_count": null,
   "metadata": {},
   "outputs": [],
   "source": [
    "var = 2\n",
    "print(var > 1)"
   ]
  },
  {
   "cell_type": "markdown",
   "metadata": {},
   "source": [
    "<h4>Operadores de comparação: maior ou igual a</h4>"
   ]
  },
  {
   "cell_type": "code",
   "execution_count": null,
   "metadata": {},
   "outputs": [],
   "source": [
    "var = 2\n",
    "print(var >= 2)"
   ]
  },
  {
   "cell_type": "markdown",
   "metadata": {},
   "source": [
    "<h4>Comparação de operadores: menor que e menor ou igual que</h4>"
   ]
  },
  {
   "cell_type": "code",
   "execution_count": null,
   "metadata": {},
   "outputs": [],
   "source": [
    "current_velocity_mph = 84\n",
    "\n",
    "current_velocity_mph < 85  # Menor que\n",
    "print(current_velocity_mph < 85)\n",
    "\n",
    "current_velocity_mph <= 85  # Menos que ou igual a\n",
    "print(current_velocity_mph <= 85)"
   ]
  },
  {
   "cell_type": "markdown",
   "metadata": {},
   "source": [
    "<h4>Utilização das respostas</h4>"
   ]
  },
  {
   "cell_type": "code",
   "execution_count": null,
   "metadata": {},
   "outputs": [],
   "source": [
    "number_of_lions = 3\n",
    "number_of_lionesses = 6\n",
    "\n",
    "answer = number_of_lions >= number_of_lionesses\n",
    "\n",
    "print(answer)"
   ]
  },
  {
   "cell_type": "markdown",
   "metadata": {},
   "source": [
    "<h4>Variáveis ‒ Perguntas e respostas</h4>"
   ]
  },
  {
   "cell_type": "code",
   "execution_count": null,
   "metadata": {},
   "outputs": [],
   "source": [
    "#Usando um dos operadores de comparação em Python, escreva um programa simples de duas linhas que aceita o parâmetro n como entrada, que é um inteiro, e imprime False se n for menor 100, e True se n for maior ou igual a 100.\n",
    "\n",
    "n = int(input(\"Insira um valor a ser comparado: \"))\n",
    "print(n >= 100)"
   ]
  },
  {
   "cell_type": "markdown",
   "metadata": {},
   "source": [
    "<h4>Condições e Execução Condicional</h4>"
   ]
  },
  {
   "cell_type": "code",
   "execution_count": null,
   "metadata": {},
   "outputs": [],
   "source": [
    "true_or_not = True\n",
    "do_this_if_true = \"This true\"\n",
    "\n",
    "if true_or_not:\n",
    "    print(do_this_if_true)"
   ]
  },
  {
   "cell_type": "code",
   "execution_count": null,
   "metadata": {},
   "outputs": [],
   "source": [
    "idade = float(input(\"Digite sua idade: \"))\n",
    "if idade < 18:{\n",
    "    print(\"Menor de idade\")\n",
    "} \n",
    "else:{\n",
    "    print(\"Maior de Idade\")\n",
    "}\n",
    "    "
   ]
  },
  {
   "cell_type": "markdown",
   "metadata": {},
   "source": [
    "<h4>Comandos if-else aninhados</h4>"
   ]
  },
  {
   "cell_type": "code",
   "execution_count": null,
   "metadata": {},
   "outputs": [],
   "source": [
    "# Variáveis de condição\n",
    "the_weather_is_good = True\n",
    "nice_restaurant_is_found = True\n",
    "tickets_are_available = False\n",
    "\n",
    "# Estrutura condicional if-else aninhada\n",
    "if the_weather_is_good:\n",
    "    if nice_restaurant_is_found:\n",
    "        print(\"Almoçamos no restaurante.\")\n",
    "    else:\n",
    "        print(\"Comemos um sanduíche.\")\n",
    "else:\n",
    "    if tickets_are_available:\n",
    "        print(\"Fomos ao teatro.\")\n",
    "    else:\n",
    "        print(\"Fomos fazer compras.\")"
   ]
  },
  {
   "cell_type": "markdown",
   "metadata": {},
   "source": [
    "<h4>O comando elif</h4>"
   ]
  },
  {
   "cell_type": "markdown",
   "metadata": {},
   "source": [
    "<p>A maneira de montar instruções if-elif-else subsequentes é chamada de cascata.</p>"
   ]
  },
  {
   "cell_type": "code",
   "execution_count": null,
   "metadata": {},
   "outputs": [],
   "source": [
    "# Variáveis de condição\n",
    "the_weather_is_good = True\n",
    "tickets_are_available = False\n",
    "table_is_available = False\n",
    "\n",
    "# Estrutura condicional if-elif-else aninhada\n",
    "if the_weather_is_good:\n",
    "    print(\"Vamos dar uma volta.\")\n",
    "elif tickets_are_available:\n",
    "    print(\"Vamos ao teatro.\")\n",
    "elif table_is_available:\n",
    "    print(\"Vamos almoçar.\")\n",
    "else:\n",
    "    print(\"Vamos jogar xadrez em casa.\")"
   ]
  },
  {
   "cell_type": "markdown",
   "metadata": {},
   "source": [
    "<p>\n",
    "    Alguma atenção adicional deve ser prestada neste caso:\n",
    "    \n",
    "    você não deve usar else sem preceder if;\n",
    "    else é sempre o último ramo da cascata, independentemente de você ter usado elif ou não;\n",
    "    else é uma parte opcional da cascata e pode ser omitida;\n",
    "    se houver uma else na cascata, apenas uma de todas as ramificações será executada;\n",
    "    se não houver a ramificação else, é possível que nenhuma das outras ramificações sejam executadas;\n",
    "    Isso pode parecer um pouco confuso, mas espero que alguns exemplos simples ajudem a esclarecer melhor.\n",
    "</p>"
   ]
  },
  {
   "cell_type": "markdown",
   "metadata": {},
   "source": [
    "<h4>Análise de amostras de código</h4>"
   ]
  },
  {
   "cell_type": "code",
   "execution_count": null,
   "metadata": {},
   "outputs": [],
   "source": [
    "#Ler dois números\n",
    "number1 = int(input(\"Digite o primeiro número: \"))\n",
    "number2 = int(input(\"Digite o segundo número: \"))\n",
    " \n",
    "# Escolha o número maior\n",
    "if number1 > number2:\n",
    "    larger_number = number1\n",
    "else:\n",
    "    larger_number = number2\n",
    " \n",
    "# Imprimir o resultado\n",
    "print(\"O maior número é:\", larger_number)"
   ]
  },
  {
   "cell_type": "code",
   "execution_count": 3,
   "metadata": {},
   "outputs": [
    {
     "name": "stdout",
     "output_type": "stream",
     "text": [
      "O maior número é: 5\n"
     ]
    }
   ],
   "source": [
    "#Ler dois números\n",
    "number1 = int(input(\"Digite o primeiro número: \"))\n",
    "number2 = int(input(\"Digite o segundo número: \"))\n",
    " \n",
    "# Escolha o número maior\n",
    "if number1 > number2: larger_number = number1\n",
    "else: larger_number = number2\n",
    " \n",
    "# Imprimir o resultado\n",
    "print(\"O maior número é:\", larger_number)"
   ]
  },
  {
   "cell_type": "code",
   "execution_count": null,
   "metadata": {},
   "outputs": [],
   "source": [
    "# Leia três números\n",
    "number1 = int(input(\"Digite o primeiro número: \"))\n",
    "number2 = int(input(\"Digite o segundo número: \"))\n",
    "number3 = int(input(\"Digite o terceiro número: \"))\n",
    " \n",
    "# Assumimos temporariamente que o primeiro número\n",
    "# é o maior deles.\n",
    "# Em breve verificaremos isso.\n",
    "largest_number = number1\n",
    " \n",
    "# Nós verificamos se o segundo número é maior que o maior_número atual\n",
    "# e atualize o maior_número, se necessário.\n",
    "if number2 > largest_number:\n",
    "    largest_number = number2\n",
    " \n",
    "# Nós verificamos se o terceiro número é maior que o maior_número atual\n",
    "# e atualize o maior_número, se necessário.\n",
    "if number3 > largest_number:\n",
    "    largest_number = number3\n",
    " \n",
    "# Imprimir o resultado\n",
    "print(\"O maior número é:\", largest_number)"
   ]
  },
  {
   "cell_type": "code",
   "execution_count": null,
   "metadata": {},
   "outputs": [],
   "source": [
    "number1 = int(input(\"Digite o primeiro número: \"))\n",
    "number2 = int(input(\"Digite o segundo número: \"))\n",
    "number3 = int(input(\"Digite o terceiro número: \"))\n",
    "\n",
    "comparar = number1\n",
    "\n",
    "if number2 > comparar:\n",
    "    comparar = number2\n",
    "    \n",
    "if number3 > comparar:\n",
    "    comparar = number3\n",
    "    \n",
    "print(f'\"O maior número é: {comparar}\"')"
   ]
  },
  {
   "cell_type": "markdown",
   "metadata": {},
   "source": [
    "<h4>Pseudocódigo e introdução aos loops</h4>"
   ]
  },
  {
   "cell_type": "code",
   "execution_count": null,
   "metadata": {},
   "outputs": [],
   "source": [
    "largest_number = -999999999\n",
    "number = int(input())\n",
    "if number == -1:\n",
    "    print(largest_number)\n",
    "    exit()\n",
    "if number > largest_number:\n",
    "    largest_number = number\n",
    "# Ir para a linha 02\n"
   ]
  },
  {
   "cell_type": "code",
   "execution_count": null,
   "metadata": {},
   "outputs": [],
   "source": [
    "# Leia três números.\n",
    "number1 = int(input(\"Digite o primeiro número: \"))\n",
    "number2 = int(input(\"Digite o segundo número: \"))\n",
    "number3 = int(input(\"Digite o terceiro número: \"))\n",
    " \n",
    "# Verifique qual dos números é o maior\n",
    "# e passe-o para a variável de número_maior.\n",
    " \n",
    "largest_number = max(number1, number2, number3)\n",
    " \n",
    "# Imprimir o resultado.\n",
    "print(\"O maior número é:\", largest_number)"
   ]
  },
  {
   "cell_type": "markdown",
   "metadata": {},
   "source": [
    "<h4>Exercício:</h4>"
   ]
  },
  {
   "cell_type": "code",
   "execution_count": 5,
   "metadata": {},
   "outputs": [
    {
     "name": "stdout",
     "output_type": "stream",
     "text": [
      "Spathiphyllum! Not pelargonium!\n"
     ]
    }
   ],
   "source": [
    "var1 = input()\n",
    "\n",
    "if var1 == \"Spathiphyllum\":\n",
    "    print(\"Yes - Spathiphyllum is the best plant ever!\")\n",
    "elif var1 == \"pelargonium\":\n",
    "    print(\"Spathiphyllum! Not pelargonium!\")\n",
    "elif var1 == \"spathiphyllum\":\n",
    "    print(\"No, I want a big Spathiphyllum!\")"
   ]
  },
  {
   "cell_type": "code",
   "execution_count": null,
   "metadata": {},
   "outputs": [],
   "source": [
    "#Cada declaração if é testada separadamente.\n",
    "\n",
    "x = 10\n",
    " \n",
    "if x > 5: # condição um\n",
    "    print(\"x é maior que 5\")  # Executado se a condição um for True.\n",
    " \n",
    "if x < 10: # condição dois\n",
    "    print(\"x é menor que 10\")  # Executado se a condição dois for True.\n",
    " \n",
    "if x == 10: # condição três\n",
    "    print(\"x é igual a 10\")  # Executado se a condição três for True.\n",
    " "
   ]
  },
  {
   "cell_type": "code",
   "execution_count": 7,
   "metadata": {},
   "outputs": [
    {
     "name": "stdout",
     "output_type": "stream",
     "text": [
      "x é maior ou igual a 10\n"
     ]
    }
   ],
   "source": [
    "x = 10\n",
    " \n",
    "if x < 10: # condição\n",
    "    print(\"x é menor que 10\")  # Executado se a condição for True.\n",
    " \n",
    "else:\n",
    "    print(\"x é maior ou igual a 10\")  # Executado se a condição for False.\n"
   ]
  },
  {
   "cell_type": "code",
   "execution_count": 8,
   "metadata": {},
   "outputs": [
    {
     "name": "stdout",
     "output_type": "stream",
     "text": [
      "x == 10\n",
      "x > 5\n"
     ]
    }
   ],
   "source": [
    "x = 10\n",
    " \n",
    "if x == 10: # True\n",
    "    print(\"x == 10\")\n",
    " \n",
    "if x > 15: # False\n",
    "    print(\"x > 15\")\n",
    " \n",
    "elif x > 10: # False\n",
    "    print(\"x > 10\")\n",
    " \n",
    "elif x > 5: # True\n",
    "    print(\"x > 5\")\n",
    " \n",
    "else:\n",
    "    print(\"senão não será executado\")\n",
    " "
   ]
  },
  {
   "cell_type": "code",
   "execution_count": 9,
   "metadata": {},
   "outputs": [
    {
     "name": "stdout",
     "output_type": "stream",
     "text": [
      "aninhado: x == 10\n"
     ]
    }
   ],
   "source": [
    "x = 10\n",
    " \n",
    "if x > 5: # True\n",
    "    if x == 6: # False\n",
    "        print(\"aninhado: x == 6\")\n",
    "    elif x == 10: # True\n",
    "        print(\"aninhado: x == 10\")\n",
    "    else:\n",
    "        print(\"aninhado: else\")\n",
    "else:\n",
    "    print(\"else\")\n"
   ]
  },
  {
   "cell_type": "markdown",
   "metadata": {},
   "source": [
    "<h4>Fazendo um loop no seu código com while</h4>"
   ]
  },
  {
   "cell_type": "code",
   "execution_count": null,
   "metadata": {},
   "outputs": [],
   "source": [
    "enquanto há algo para fazer\n",
    "    faça isso"
   ]
  },
  {
   "cell_type": "code",
   "execution_count": null,
   "metadata": {},
   "outputs": [],
   "source": [
    "while\n",
    "    instruction"
   ]
  },
  {
   "cell_type": "markdown",
   "metadata": {},
   "source": [
    "<h4>Um loop infinito</h4>"
   ]
  },
  {
   "cell_type": "code",
   "execution_count": null,
   "metadata": {},
   "outputs": [],
   "source": [
    "while True:\n",
    "    print(\"Estou preso dentro de um loop.\")"
   ]
  },
  {
   "cell_type": "code",
   "execution_count": 15,
   "metadata": {},
   "outputs": [
    {
     "name": "stdout",
     "output_type": "stream",
     "text": [
      "O maior número é: 5\n"
     ]
    }
   ],
   "source": [
    "# Armazene o maior número atual aqui.\n",
    "largest_number = -999999999\n",
    " \n",
    "# Insira o primeiro valor.\n",
    "number = int(input(\"Digite um número ou digite -1 para parar: \"))\n",
    " \n",
    "# Se o número não for igual a -1, continue.\n",
    "while number != -1:\n",
    "    # O número é maior que o maior_número?\n",
    "    if number > largest_number:\n",
    "        # Sim, atualize o maior_número.\n",
    "        largest_number = number\n",
    "    # Insira o próximo número.\n",
    "    number = int(input(\"Digite um número ou digite -1 para parar: \"))\n",
    " \n",
    "# Imprima o maior número.\n",
    "print(\"O maior número é:\", largest_number)"
   ]
  },
  {
   "cell_type": "code",
   "execution_count": null,
   "metadata": {},
   "outputs": [],
   "source": [
    "# Um programa que lê uma sequência de números\n",
    "# e conta quantos números são pares e quantos são ímpares.\n",
    "# O programa termina quando zero é digitado.\n",
    " \n",
    "odd_numbers = 0\n",
    "even_numbers = 0\n",
    " \n",
    "# Leia o primeiro número.\n",
    "number = int(input(\"Digite um número ou digite 0 para parar: \"))\n",
    " \n",
    "# 0 termina a execução.\n",
    "while number != 0:\n",
    "    # Verifique se o número é ímpar.\n",
    "    if number % 2 == 1:\n",
    "        # Aumente o contador odd_numbers.\n",
    "        odd_numbers += 1\n",
    "    else:\n",
    "        # Aumente o contador even_numbers.\n",
    "        even_numbers += 1\n",
    "    # Leia o número seguinte.\n",
    "    number = int(input(\"Digite um número ou digite 0 para parar: \"))\n",
    " \n",
    "# Imprimir resultados.\n",
    "print(\"Números ímpares contam:\", odd_numbers)\n",
    "print(\"Números pares contam:\", even_numbers)"
   ]
  },
  {
   "cell_type": "markdown",
   "metadata": {},
   "source": [
    "<h4>Usando uma variável counter para sair do loop</h4>"
   ]
  },
  {
   "cell_type": "code",
   "execution_count": null,
   "metadata": {},
   "outputs": [],
   "source": [
    "counter = 5\n",
    "while counter != 0:\n",
    "    print(\"Dentro do laço.\", counter)\n",
    "    counter -= 1\n",
    "print(\"Fora do circuito.\", counter)"
   ]
  },
  {
   "cell_type": "code",
   "execution_count": null,
   "metadata": {},
   "outputs": [],
   "source": [
    "counter = 5\n",
    "while counter:\n",
    "    print(\"Dentro do laço.\", counter)\n",
    "    counter -= 1\n",
    "print(\"Fora do circuito.\", counter)"
   ]
  },
  {
   "cell_type": "markdown",
   "metadata": {},
   "source": [
    "<h4>Exercício</h4>"
   ]
  },
  {
   "cell_type": "code",
   "execution_count": null,
   "metadata": {},
   "outputs": [],
   "source": [
    "secret_number = 777\n",
    "\n",
    "print(\n",
    "\"\"\"\n",
    "+===================================+\n",
    "| Bem vindo ao meu jogo, trouxa!    |\n",
    "| Insira um número inteiro          |\n",
    "| e adivinhar o número que tenho    |\n",
    "| escolhido para você.              |\n",
    "| Então, qual é o número secreto?   |\n",
    "+===================================+\n",
    "\"\"\")\n",
    "\n",
    "while True:\n",
    "    number = int(input(\"Digite um número: \"))\n",
    "    \n",
    "    if number != secret_number:\n",
    "        print(\"Ha ha! Você está preso no meu loop!\")\n",
    "    else:\n",
    "        print(\"Muito bem, trouxa! Você está livre agora.\")\n",
    "        break"
   ]
  }
 ],
 "metadata": {
  "kernelspec": {
   "display_name": "Python 3",
   "language": "python",
   "name": "python3"
  },
  "language_info": {
   "codemirror_mode": {
    "name": "ipython",
    "version": 3
   },
   "file_extension": ".py",
   "mimetype": "text/x-python",
   "name": "python",
   "nbconvert_exporter": "python",
   "pygments_lexer": "ipython3",
   "version": "3.12.6"
  }
 },
 "nbformat": 4,
 "nbformat_minor": 2
}
